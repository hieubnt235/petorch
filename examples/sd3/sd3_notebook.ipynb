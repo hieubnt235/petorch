{
 "cells": [
  {
   "metadata": {},
   "cell_type": "markdown",
   "source": [
    "Quick migration mental model (old → new)\n",
    "\n",
    "U-Net → Transformer (MMDiT-X)\n",
    "\n",
    "1× CLIP → 2× CLIP + 1× T5-XXL\n",
    "\n",
    "Same VAE role (encode/decode latents)\n",
    "\n",
    "DDIM/DPM schedulers → FlowMatch-Euler/Heun (+ shift)\n",
    "\n",
    "CFG only → CFG + optional SLG\n"
   ],
   "id": "d13c4da78a413792"
  },
  {
   "metadata": {},
   "cell_type": "code",
   "outputs": [],
   "execution_count": null,
   "source": "from lightning.pytorch.loggers import MLFlowLogger",
   "id": "533388223340223"
  },
  {
   "cell_type": "code",
   "execution_count": null,
   "id": "initial_id",
   "metadata": {
    "collapsed": true
   },
   "outputs": [],
   "source": [
    ""
   ]
  }
 ],
 "metadata": {
  "kernelspec": {
   "display_name": "Python 3",
   "language": "python",
   "name": "python3"
  },
  "language_info": {
   "codemirror_mode": {
    "name": "ipython",
    "version": 2
   },
   "file_extension": ".py",
   "mimetype": "text/x-python",
   "name": "python",
   "nbconvert_exporter": "python",
   "pygments_lexer": "ipython2",
   "version": "2.7.6"
  }
 },
 "nbformat": 4,
 "nbformat_minor": 5
}
