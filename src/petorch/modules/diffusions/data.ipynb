{
 "cells": [
  {
   "cell_type": "code",
   "id": "initial_id",
   "metadata": {
    "collapsed": true,
    "ExecuteTime": {
     "end_time": "2025-08-28T10:11:04.458229Z",
     "start_time": "2025-08-28T10:11:00.565314Z"
    }
   },
   "source": [
    "data_id = \"lambdalabs/naruto-blip-captions\"\n",
    "from datasets import load_dataset\n",
    "ds = load_dataset(data_id,split=\"train\")"
   ],
   "outputs": [
    {
     "name": "stderr",
     "output_type": "stream",
     "text": [
      "Repo card metadata block was not found. Setting CardData to empty.\n"
     ]
    }
   ],
   "execution_count": 1
  },
  {
   "metadata": {
    "ExecuteTime": {
     "end_time": "2025-08-28T19:02:51.396911Z",
     "start_time": "2025-08-28T19:02:50.254189Z"
    }
   },
   "cell_type": "code",
   "source": [
    "import torchvision.transforms.v2 as transforms\n",
    "import torch\n",
    "tf = transforms.Compose(\n",
    "            [\n",
    "                transforms.Resize([100,100]),\n",
    "                transforms.RandomHorizontalFlip(),\n",
    "                transforms.ToImage(),  # PIL to tensor\n",
    "                transforms.ToDtype(\n",
    "                    dtype=torch.get_default_dtype(), scale=True\n",
    "                ),  # convert PIL → tensor [0,1]\n",
    "                transforms.Normalize([0.5], [0.5])  # map [0,1] → [-1,1]\n",
    "            ]\n",
    "        )\n"
   ],
   "id": "50615e80274bf760",
   "outputs": [],
   "execution_count": 15
  },
  {
   "metadata": {
    "ExecuteTime": {
     "end_time": "2025-08-28T19:11:28.886037Z",
     "start_time": "2025-08-28T19:11:28.045095Z"
    }
   },
   "cell_type": "code",
   "source": [
    "from PIL import Image\n",
    "images = [Image.new(\"RGB\",(600,600), \"red\") for i in range(1000)]"
   ],
   "id": "b8be5fc2cac88f0d",
   "outputs": [],
   "execution_count": 23
  },
  {
   "metadata": {
    "ExecuteTime": {
     "end_time": "2025-08-28T20:10:48.195339Z",
     "start_time": "2025-08-28T20:10:47.556459Z"
    }
   },
   "cell_type": "code",
   "source": [
    "from transformers import CLIPTokenizerFast, PreTrainedTokenizerBase\n",
    "from typing import Callable\n",
    "def get_clip_tokenizer(\n",
    "    model_path: str = \"stabilityai/stable-diffusion-2-1\", subfolder: str = \"tokenizer\"\n",
    ") -> CLIPTokenizerFast:\n",
    "    return CLIPTokenizerFast.from_pretrained(model_path, subfolder=subfolder)\n",
    "def get_text_transform(\n",
    "    tokenizer: PreTrainedTokenizerBase, padding\n",
    ") -> Callable[[str | list[str]], torch.Tensor]:\n",
    "    def text_transform(text: str | list[str]) -> torch.Tensor:\n",
    "        batch_encoding = tokenizer.__call__(text, padding=padding, return_tensors=\"pt\")\n",
    "        return batch_encoding.input_ids\n",
    "\n",
    "    return text_transform\n",
    "tt = get_text_transform(get_clip_tokenizer(), padding = \"longest\")"
   ],
   "id": "3a3d2c38c9c52ad4",
   "outputs": [],
   "execution_count": 35
  },
  {
   "metadata": {
    "ExecuteTime": {
     "end_time": "2025-08-28T20:20:36.214113Z",
     "start_time": "2025-08-28T20:20:36.207631Z"
    }
   },
   "cell_type": "code",
   "source": [
    "texts = [\n",
    "\"This is text 1\",\n",
    "\"This is text 2 and it's longer than text 1 but stupid\"\n",
    "]\n",
    "tt(texts).size(0)"
   ],
   "id": "92cae05583a786f9",
   "outputs": [
    {
     "data": {
      "text/plain": [
       "2"
      ]
     },
     "execution_count": 40,
     "metadata": {},
     "output_type": "execute_result"
    }
   ],
   "execution_count": 40
  },
  {
   "metadata": {
    "ExecuteTime": {
     "end_time": "2025-08-28T19:11:45.020433Z",
     "start_time": "2025-08-28T19:11:41.615851Z"
    }
   },
   "cell_type": "code",
   "source": [
    "import time\n",
    "start = time.time()\n",
    "for img in images:\n",
    "    tf(img)\n",
    "print(time.time()-start)\n",
    "\n",
    "start = time.time()\n",
    "tf(images)\n",
    "print(time.time()-start)\n"
   ],
   "id": "adbf65c12e5072c7",
   "outputs": [
    {
     "name": "stdout",
     "output_type": "stream",
     "text": [
      "1.871413230895996\n",
      "1.5271337032318115\n"
     ]
    }
   ],
   "execution_count": 25
  },
  {
   "metadata": {
    "ExecuteTime": {
     "end_time": "2025-08-28T10:14:22.491580Z",
     "start_time": "2025-08-28T10:14:22.484486Z"
    }
   },
   "cell_type": "code",
   "source": "train, test, val = random_split([i for i in range(100)], (0.6,0.3,0.1))",
   "id": "8af1e7055b53b7b5",
   "outputs": [],
   "execution_count": 8
  },
  {
   "metadata": {},
   "cell_type": "code",
   "outputs": [],
   "execution_count": null,
   "source": "from petorch.utilities.types import DatasetType\n",
   "id": "101532b2eb0e8587"
  },
  {
   "metadata": {},
   "cell_type": "code",
   "outputs": [],
   "execution_count": null,
   "source": [
    "from sklearn.model_selection import train_test_split\n",
    "\n",
    "train_test_split"
   ],
   "id": "1943d505bb8ecb"
  },
  {
   "metadata": {},
   "cell_type": "code",
   "outputs": [],
   "execution_count": null,
   "source": "from typing import Sequence",
   "id": "d449407065989406"
  },
  {
   "metadata": {},
   "cell_type": "code",
   "outputs": [],
   "execution_count": null,
   "source": [
    "from typing import Protocol, TypeVar\n",
    "\n",
    "# A generic type variable for the items in the dataset\n",
    "T_co = TypeVar(\"T_co\", covariant=True)\n",
    "\n",
    "class MappableDataset(Protocol[T_co]):\n",
    "    \"\"\"A protocol for datasets that can be mapped (indexed) and have a length.\"\"\"\n",
    "    def __getitem__(self, index: int) -> T_co:\n",
    "        ... # The '...' indicates that the implementation is not in this protocol\n",
    "\n",
    "    def __len__(self) -> int:\n",
    "        ...\n"
   ],
   "id": "2c9acadccd39315f"
  }
 ],
 "metadata": {
  "kernelspec": {
   "display_name": "Python 3",
   "language": "python",
   "name": "python3"
  },
  "language_info": {
   "codemirror_mode": {
    "name": "ipython",
    "version": 2
   },
   "file_extension": ".py",
   "mimetype": "text/x-python",
   "name": "python",
   "nbconvert_exporter": "python",
   "pygments_lexer": "ipython2",
   "version": "2.7.6"
  }
 },
 "nbformat": 4,
 "nbformat_minor": 5
}
