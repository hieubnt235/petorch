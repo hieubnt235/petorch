{
 "cells": [
  {
   "cell_type": "code",
   "id": "initial_id",
   "metadata": {
    "collapsed": true,
    "ExecuteTime": {
     "end_time": "2025-08-28T10:11:04.458229Z",
     "start_time": "2025-08-28T10:11:00.565314Z"
    }
   },
   "source": [
    "data_id = \"lambdalabs/naruto-blip-captions\"\n",
    "from datasets import load_dataset\n",
    "ds = load_dataset(data_id,split=\"train\")"
   ],
   "outputs": [
    {
     "name": "stderr",
     "output_type": "stream",
     "text": [
      "Repo card metadata block was not found. Setting CardData to empty.\n"
     ]
    }
   ],
   "execution_count": 1
  },
  {
   "metadata": {
    "ExecuteTime": {
     "end_time": "2025-08-28T10:12:09.696377Z",
     "start_time": "2025-08-28T10:12:09.691444Z"
    }
   },
   "cell_type": "code",
   "source": [
    "from torch.utils.data import random_split\n",
    "ds.train_test_split\n",
    "train, test = random_split(ds,[0.8,0.2])"
   ],
   "id": "cca7ad525f0ebe58",
   "outputs": [],
   "execution_count": 2
  },
  {
   "metadata": {
    "ExecuteTime": {
     "end_time": "2025-08-28T10:12:42.117267Z",
     "start_time": "2025-08-28T10:12:42.108027Z"
    }
   },
   "cell_type": "code",
   "source": "len(train), len(test)",
   "id": "1a297cd06db0264e",
   "outputs": [
    {
     "data": {
      "text/plain": [
       "(977, 244)"
      ]
     },
     "execution_count": 6,
     "metadata": {},
     "output_type": "execute_result"
    }
   ],
   "execution_count": 6
  },
  {
   "metadata": {
    "ExecuteTime": {
     "end_time": "2025-08-28T10:14:22.491580Z",
     "start_time": "2025-08-28T10:14:22.484486Z"
    }
   },
   "cell_type": "code",
   "source": "train, test, val = random_split([i for i in range(100)], (0.6,0.3,0.1))",
   "id": "8af1e7055b53b7b5",
   "outputs": [],
   "execution_count": 8
  },
  {
   "metadata": {},
   "cell_type": "code",
   "outputs": [],
   "execution_count": null,
   "source": "from petorch.utilities.types import DatasetType\n",
   "id": "101532b2eb0e8587"
  },
  {
   "metadata": {},
   "cell_type": "code",
   "outputs": [],
   "execution_count": null,
   "source": [
    "from sklearn.model_selection import train_test_split\n",
    "\n",
    "train_test_split"
   ],
   "id": "1943d505bb8ecb"
  },
  {
   "metadata": {},
   "cell_type": "code",
   "outputs": [],
   "execution_count": null,
   "source": "from typing import Sequence",
   "id": "d449407065989406"
  },
  {
   "metadata": {},
   "cell_type": "code",
   "outputs": [],
   "execution_count": null,
   "source": [
    "from typing import Protocol, TypeVar\n",
    "\n",
    "# A generic type variable for the items in the dataset\n",
    "T_co = TypeVar(\"T_co\", covariant=True)\n",
    "\n",
    "class MappableDataset(Protocol[T_co]):\n",
    "    \"\"\"A protocol for datasets that can be mapped (indexed) and have a length.\"\"\"\n",
    "    def __getitem__(self, index: int) -> T_co:\n",
    "        ... # The '...' indicates that the implementation is not in this protocol\n",
    "\n",
    "    def __len__(self) -> int:\n",
    "        ...\n"
   ],
   "id": "2c9acadccd39315f"
  }
 ],
 "metadata": {
  "kernelspec": {
   "display_name": "Python 3",
   "language": "python",
   "name": "python3"
  },
  "language_info": {
   "codemirror_mode": {
    "name": "ipython",
    "version": 2
   },
   "file_extension": ".py",
   "mimetype": "text/x-python",
   "name": "python",
   "nbconvert_exporter": "python",
   "pygments_lexer": "ipython2",
   "version": "2.7.6"
  }
 },
 "nbformat": 4,
 "nbformat_minor": 5
}
